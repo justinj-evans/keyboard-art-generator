{
 "cells": [
  {
   "cell_type": "markdown",
   "metadata": {},
   "source": [
    "### Import File"
   ]
  },
  {
   "cell_type": "code",
   "execution_count": 1,
   "metadata": {},
   "outputs": [],
   "source": [
    "from PIL import Image"
   ]
  },
  {
   "cell_type": "markdown",
   "metadata": {},
   "source": [
    "### Interactive"
   ]
  },
  {
   "cell_type": "code",
   "execution_count": 2,
   "metadata": {},
   "outputs": [
    {
     "data": {
      "application/vnd.jupyter.widget-view+json": {
       "model_id": "c7c809e623ed4d3a9cd1dd9bba3446fb",
       "version_major": 2,
       "version_minor": 0
      },
      "text/plain": [
       "VBox(children=(IntSlider(value=10, description='Grid Size:', min=2),))"
      ]
     },
     "metadata": {},
     "output_type": "display_data"
    },
    {
     "data": {
      "application/vnd.jupyter.widget-view+json": {
       "model_id": "9a7bbe66f90542f590e6fc2a8ac21c94",
       "version_major": 2,
       "version_minor": 0
      },
      "text/plain": [
       "Output()"
      ]
     },
     "metadata": {},
     "output_type": "display_data"
    }
   ],
   "source": [
    "\n",
    "from PIL import Image, ImageDraw, ImageOps\n",
    "import ipywidgets as widgets\n",
    "from IPython.display import display\n",
    "\n",
    "class ImageGridProcessor:\n",
    "    def __init__(self, image_path, border_width=5, background_color='black'):\n",
    "        self.image_path = image_path\n",
    "        self.border_width = border_width\n",
    "        self.background_color = background_color\n",
    "        self.colors = [(0, 0, 0), (255, 255, 255), (128, 128, 128)]  # Black, White, Grey\n",
    "    \n",
    "    def split_image_into_grid(self, grid_size):\n",
    "\n",
    "        # Open the image\n",
    "        image = Image.open(self.image_path)\n",
    "        width, height = image.size\n",
    "        \n",
    "        height_width_min = min([width,height])\n",
    "        self.square_dim = height_width_min\n",
    "        \n",
    "        # Calculate the size of each square\n",
    "        square_width = height_width_min // grid_size\n",
    "        square_height = height_width_min // grid_size\n",
    "        \n",
    "        # Split the image into grid squares\n",
    "        grid_images = []\n",
    "        for row in range(grid_size):\n",
    "            for col in range(grid_size):\n",
    "                left = col * square_width\n",
    "                upper = row * square_height\n",
    "                right = (col + 1) * square_width\n",
    "                lower = (row + 1) * square_height\n",
    "                grid_images.append(image.crop((left, upper, right, lower)))\n",
    "        \n",
    "        return grid_images, square_width, square_height\n",
    "    \n",
    "    @staticmethod\n",
    "    def color_distance(c1, c2):\n",
    "        return sum((a - b) ** 2 for a, b in zip(c1, c2)) ** 0.5\n",
    "    \n",
    "    def closest_color(self, pixel):\n",
    "        distances = [self.color_distance(pixel, color) for color in self.colors]\n",
    "        return self.colors[distances.index(min(distances))]\n",
    "    \n",
    "    def convert_to_closest_color(self, grid_images):\n",
    "        converted_images = []\n",
    "        self.grid_color_names = []\n",
    "        self.grid_colors = []\n",
    "\n",
    "        for img in grid_images:\n",
    "            # Convert image to a small thumbnail to calculate average color\n",
    "            img_thumbnail = img.resize((1, 1))\n",
    "            avg_color = img_thumbnail.getpixel((0, 0))[0:3]\n",
    "\n",
    "            # Round RBG (0, 171, 0) -> (0, 170, 0) to nearest 5 value to normalize color outputs\n",
    "            normalize = 5\n",
    "            avg_color = tuple(5 * round(value / normalize) for value in avg_color)\n",
    "\n",
    "            # If color list is not supplied, default to average color of grid square\n",
    "            if not self.colors:\n",
    "                closest = avg_color\n",
    "            else:            \n",
    "                # Determine the closest color from the list\n",
    "                closest = self.closest_color(avg_color)\n",
    "            \n",
    "            # Convert RGB color to named color \n",
    "            color_name = find_closest_color_name(closest)\n",
    "\n",
    "            # Track closest colors to summarize \n",
    "            self.grid_color_names.append(color_name)\n",
    "            self.grid_colors.append(closest)\n",
    "\n",
    "            # Create a new image with the closest color\n",
    "            new_img = Image.new('RGB', img.size, closest)\n",
    "            converted_images.append(new_img)\n",
    "        return converted_images\n",
    "    \n",
    "    def remerge_grid_images(self, grid_images, grid_size, square_width, square_height):\n",
    "        # Calculate the size of the new image\n",
    "        new_width = grid_size * (square_width + self.border_width) + self.border_width\n",
    "        new_height = grid_size * (square_height + self.border_width) + self.border_width\n",
    "        \n",
    "        # Create a new image with the specified background color\n",
    "        new_image = Image.new('RGB', (new_width, new_height), self.background_color)\n",
    "        \n",
    "        # Paste the grid images into the new image with the border\n",
    "        for index, img in enumerate(grid_images):\n",
    "            row = index // grid_size\n",
    "            col = index % grid_size\n",
    "            left = col * (square_width + self.border_width) + self.border_width\n",
    "            upper = row * (square_height + self.border_width) + self.border_width\n",
    "            new_image.paste(img, (left, upper))\n",
    "        \n",
    "        return new_image\n",
    "    \n",
    "    def process_and_display(self, grid_size):\n",
    "        grid_images, square_width, square_height = self.split_image_into_grid(grid_size)\n",
    "        converted_images = self.convert_to_closest_color(grid_images)\n",
    "        merged_image = self.remerge_grid_images(converted_images, grid_size, square_width, square_height)\n",
    "        \n",
    "        display(merged_image)\n",
    "        return merged_image\n",
    "\n",
    "# Interactive widgets\n",
    "image_path = r'image\\python.PNG'\n",
    "\n",
    "grid_size_slider = widgets.IntSlider(value=10, min=2, max=100, step=1, description='Grid Size:')\n",
    "\n",
    "processor = ImageGridProcessor(image_path=image_path)\n",
    "\n",
    "ui = widgets.VBox([grid_size_slider])\n",
    "out = widgets.interactive_output(\n",
    "    processor.process_and_display, \n",
    "    {'grid_size': grid_size_slider}\n",
    ")\n",
    "\n",
    "display(ui, out)"
   ]
  },
  {
   "cell_type": "code",
   "execution_count": 3,
   "metadata": {},
   "outputs": [
    {
     "data": {
      "text/plain": [
       "(0, 0, 255)"
      ]
     },
     "execution_count": 3,
     "metadata": {},
     "output_type": "execute_result"
    }
   ],
   "source": [
    "import matplotlib.colors as mcolors\n",
    "\n",
    "def color_name_to_rgb(color_name):\n",
    "    # Convert color name to RGB tuple\n",
    "    try:\n",
    "        rgb = mcolors.to_rgb(color_name)\n",
    "        # Convert float values to integers (0-255)\n",
    "        rgb = tuple(int(c * 255) for c in rgb)\n",
    "        return rgb\n",
    "    except ValueError:\n",
    "        # Handle case where color_name is not valid\n",
    "        raise ValueError(f\"Invalid color name: {color_name}\")\n",
    "    \n",
    "color_name_to_rgb(\"blue\") "
   ]
  },
  {
   "cell_type": "code",
   "execution_count": 10,
   "metadata": {},
   "outputs": [
    {
     "name": "stdout",
     "output_type": "stream",
     "text": [
      "mediumblue\n"
     ]
    }
   ],
   "source": [
    "import matplotlib.colors as mcolors\n",
    "import math\n",
    "\n",
    "# Create a dictionary mapping RGB values to color names\n",
    "rgb_to_name = {tuple(int(c * 255) for c in mcolors.to_rgb(name)): name for name in mcolors.CSS4_COLORS}\n",
    "\n",
    "def color_distance(c1, c2):\n",
    "    return sum((a - b) ** 2 for a, b in zip(c1, c2)) ** 0.5\n",
    "\n",
    "def find_closest_color_name(rgb):\n",
    "    if not isinstance(rgb, tuple) or len(rgb) != 3 or not all(isinstance(c, int) and 0 <= c <= 255 for c in rgb):\n",
    "        raise ValueError(\"RGB must be a tuple of three integers in the range 0-255\")\n",
    "\n",
    "    closest_color = min(rgb_to_name.keys(), key=lambda color: color_distance(rgb, color))\n",
    "    return rgb_to_name[closest_color]\n",
    "\n",
    "# Example usage\n",
    "rgb_value = (0, 0, 210)  # RGB value close to \"dodgerblue\"\n",
    "closest_color_name = find_closest_color_name(rgb_value)\n",
    "print(closest_color_name)"
   ]
  },
  {
   "cell_type": "markdown",
   "metadata": {},
   "source": [
    "## Words on Grid"
   ]
  },
  {
   "cell_type": "code",
   "execution_count": 23,
   "metadata": {},
   "outputs": [],
   "source": [
    "import math\n",
    "\n",
    "def format_to_grid(flat_list):\n",
    "    # Calculate the grid dimensions\n",
    "    size = int(math.sqrt(len(flat_list)))\n",
    "    if size * size != len(flat_list):\n",
    "        raise ValueError(\"The size of the flat list is not a perfect square.\")\n",
    "    \n",
    "    grid = []\n",
    "    index = 0\n",
    "    for row in range(size):\n",
    "        grid_row = []\n",
    "        for col in range(size):\n",
    "            grid_row.append((flat_list[index], ''))\n",
    "            index += 1\n",
    "        grid.append(grid_row)\n",
    "    \n",
    "    return grid\n",
    "\n",
    "grid_color = format_to_grid(flat_list=processor.grid_index_color)"
   ]
  },
  {
   "cell_type": "code",
   "execution_count": 25,
   "metadata": {},
   "outputs": [
    {
     "data": {
      "text/plain": [
       "[((255, 255, 255), ''),\n",
       " ((255, 255, 255), ''),\n",
       " ((128, 128, 128), ''),\n",
       " ((0, 0, 0), ''),\n",
       " ((0, 0, 0), ''),\n",
       " ((0, 0, 0), ''),\n",
       " ((0, 0, 0), ''),\n",
       " ((128, 128, 128), ''),\n",
       " ((255, 255, 255), ''),\n",
       " ((255, 255, 255), '')]"
      ]
     },
     "execution_count": 25,
     "metadata": {},
     "output_type": "execute_result"
    }
   ],
   "source": [
    "grid_color[0]"
   ]
  },
  {
   "cell_type": "code",
   "execution_count": 26,
   "metadata": {},
   "outputs": [
    {
     "name": "stdout",
     "output_type": "stream",
     "text": [
      "[[(255, 255, 255), 2], [(128, 128, 128), 1], [(0, 0, 0), 4], [(128, 128, 128), 1], [(255, 255, 255), 2]]\n"
     ]
    }
   ],
   "source": [
    "data = [((255, 255, 255), ''),\n",
    "        ((255, 255, 255), ''),\n",
    "        ((128, 128, 128), ''),\n",
    "        ((0, 0, 0), ''),\n",
    "        ((0, 0, 0), ''),\n",
    "        ((0, 0, 0), ''),\n",
    "        ((0, 0, 0), ''),\n",
    "        ((128, 128, 128), ''),\n",
    "        ((255, 255, 255), ''),\n",
    "        ((255, 255, 255), '')]\n",
    "\n",
    "result = []\n",
    "current_tuple = None\n",
    "current_count = 0\n",
    "\n",
    "for item in data:\n",
    "    if current_tuple is None:\n",
    "        current_tuple = item[0]\n",
    "        current_count = 1\n",
    "    elif current_tuple == item[0]:\n",
    "        current_count += 1\n",
    "    else:\n",
    "        result.append([current_tuple, current_count])\n",
    "        current_tuple = item[0]\n",
    "        current_count = 1\n",
    "\n",
    "# Append the last counted tuple\n",
    "if current_tuple is not None:\n",
    "    result.append([current_tuple, current_count])\n",
    "\n",
    "print(result)"
   ]
  },
  {
   "cell_type": "code",
   "execution_count": 15,
   "metadata": {},
   "outputs": [],
   "source": [
    "def create_grid(rows, cols, default_color=(255, 255, 255)):\n",
    "    return [[(default_color, '') for _ in range(cols)] for _ in range(rows)]\n",
    "\n",
    "def can_place_word(grid, word, color, start_row, start_col, direction):\n",
    "    rows, cols = len(grid), len(grid[0])\n",
    "    length = len(word)\n",
    "\n",
    "    if direction == 'horizontal':\n",
    "        if start_col + length > cols:\n",
    "            return False\n",
    "        for i in range(length):\n",
    "            cell_color, cell_letter = grid[start_row][start_col + i]\n",
    "            if cell_color != color and cell_letter != '':\n",
    "                return False\n",
    "            if cell_letter != '' and cell_letter != word[i]:\n",
    "                return False\n",
    "    elif direction == 'vertical':\n",
    "        if start_row + length > rows:\n",
    "            return False\n",
    "        for i in range(length):\n",
    "            cell_color, cell_letter = grid[start_row + i][start_col]\n",
    "            if cell_color != color and cell_letter != '':\n",
    "                return False\n",
    "            if cell_letter != '' and cell_letter != word[i]:\n",
    "                return False\n",
    "    return True\n",
    "\n",
    "def place_word(grid, word, color, start_row, start_col, direction):\n",
    "    length = len(word)\n",
    "    if direction == 'horizontal':\n",
    "        for i in range(length):\n",
    "            grid[start_row][start_col + i] = (color, word[i])\n",
    "        return grid\n",
    "    elif direction == 'vertical':\n",
    "        for i in range(length):\n",
    "            grid[start_row + i][start_col] = (color, word[i])\n",
    "        return grid\n",
    "\n",
    "def find_best_placement(grid, word, color):\n",
    "    best_position = None\n",
    "    max_overlap = 0\n",
    "    directions = ['horizontal', 'vertical']\n",
    "    \n",
    "    for direction in directions:\n",
    "        for row in range(len(grid)):\n",
    "            for col in range(len(grid[0])):\n",
    "                if can_place_word(grid, word, color, row, col, direction):\n",
    "                    overlap = 0\n",
    "                    if direction == 'horizontal':\n",
    "                        for i in range(len(word)):\n",
    "                            if grid[row][col + i][1] == word[i]:\n",
    "                                overlap += 1\n",
    "                    elif direction == 'vertical':\n",
    "                        for i in range(len(word)):\n",
    "                            if grid[row + i][col][1] == word[i]:\n",
    "                                overlap += 1\n",
    "                    if overlap >= max_overlap:\n",
    "                        max_overlap = overlap\n",
    "                        best_position = [row, col, direction]\n",
    "    \n",
    "    return best_position\n",
    "\n",
    "def print_grid(grid):\n",
    "    for row in grid:\n",
    "        print(' '.join(['_' if cell[1] == '' else cell[1] for cell in row]))\n",
    "\n",
    "# Example usage\n",
    "#grid = create_grid(10, 10)\n",
    "grid = grid_color\n",
    "\n",
    "words_with_colors = [(\"hi\", (255, 255, 255)), (\"world\", (0, 255, 0)), (\"hold\", (255, 0, 0))]\n",
    "\n",
    "for word, color in words_with_colors:\n",
    "    best_position = find_best_placement(grid, word, color)\n",
    "    if best_position:\n",
    "        grid = place_word(grid, word, color, best_position[0], best_position[1], best_position[2])\n",
    "\n",
    "#print_grid(grid)\n"
   ]
  },
  {
   "cell_type": "code",
   "execution_count": 16,
   "metadata": {},
   "outputs": [],
   "source": [
    "def flatten_grid(grid):\n",
    "    flat_list = []\n",
    "    for row in grid:\n",
    "        for cell in row:\n",
    "            flat_list.append(cell[1])  # Append the color tuple\n",
    "    return flat_list\n",
    "\n",
    "grid_letters = flatten_grid(grid)"
   ]
  },
  {
   "cell_type": "code",
   "execution_count": 17,
   "metadata": {},
   "outputs": [
    {
     "ename": "AttributeError",
     "evalue": "'ImageGridProcessor' object has no attribute 'grid_images'",
     "output_type": "error",
     "traceback": [
      "\u001b[1;31m---------------------------------------------------------------------------\u001b[0m",
      "\u001b[1;31mAttributeError\u001b[0m                            Traceback (most recent call last)",
      "Cell \u001b[1;32mIn[17], line 37\u001b[0m\n\u001b[0;32m     27\u001b[0m     \u001b[38;5;28;01mreturn\u001b[39;00m word_images\n\u001b[0;32m     29\u001b[0m \u001b[38;5;66;03m# grid_images = processor.grid_images\u001b[39;00m\n\u001b[0;32m     30\u001b[0m \u001b[38;5;66;03m# word_images = add_words_to_images(grid_images = grid_images, grid_letters=grid_letters)\u001b[39;00m\n\u001b[0;32m     31\u001b[0m \u001b[38;5;66;03m# merged_image = processor.remerge_grid_images(word_images,grid_size=32,\u001b[39;00m\n\u001b[1;32m   (...)\u001b[0m\n\u001b[0;32m     34\u001b[0m \n\u001b[0;32m     35\u001b[0m \u001b[38;5;66;03m# display(merged_image)\u001b[39;00m\n\u001b[1;32m---> 37\u001b[0m word_images \u001b[38;5;241m=\u001b[39m add_words_to_images(grid_images \u001b[38;5;241m=\u001b[39m \u001b[43mprocessor\u001b[49m\u001b[38;5;241;43m.\u001b[39;49m\u001b[43mgrid_images\u001b[49m[\u001b[38;5;241m0\u001b[39m:\u001b[38;5;241m1\u001b[39m], grid_letters\u001b[38;5;241m=\u001b[39m[\u001b[38;5;124m'\u001b[39m\u001b[38;5;124mk\u001b[39m\u001b[38;5;124m'\u001b[39m])\n\u001b[0;32m     38\u001b[0m display(word_images[\u001b[38;5;241m0\u001b[39m])\n",
      "\u001b[1;31mAttributeError\u001b[0m: 'ImageGridProcessor' object has no attribute 'grid_images'"
     ]
    }
   ],
   "source": [
    "from PIL import Image, ImageDraw, ImageFont\n",
    "\n",
    "\n",
    "def add_words_to_images(grid_images, grid_letters):\n",
    "    word_images = []\n",
    "    \n",
    "    for index_image, index_letter in zip(grid_images, grid_letters):\n",
    "        # Create a draw object\n",
    "        draw = ImageDraw.Draw(index_image)\n",
    "\n",
    "        # Define the text and font\n",
    "        text = index_letter\n",
    "\n",
    "        # Calculate text size and position using textbbox\n",
    "        image_width, image_height = index_image.size\n",
    "        text_x = (image_width) // 2\n",
    "        text_y = (image_height) // 2\n",
    "\n",
    "        font = ImageFont.truetype(\"arial.ttf\", text_x)  # Adjust font size as needed\n",
    "\n",
    "        # Add text to image\n",
    "        draw.text((text_x, text_y), text, font=font, fill=\"black\")  # Adjust fill color as needed\n",
    "\n",
    "        # Append the modified image to the word_images list\n",
    "        word_images.append(index_image)\n",
    "    \n",
    "    return word_images\n",
    "\n",
    "# grid_images = processor.grid_images\n",
    "# word_images = add_words_to_images(grid_images = grid_images, grid_letters=grid_letters)\n",
    "# merged_image = processor.remerge_grid_images(word_images,grid_size=32,\n",
    "#                               square_height=processor.square_height,\n",
    "#                               square_width=processor.square_height)\n",
    "\n",
    "# display(merged_image)\n",
    "\n",
    "word_images = add_words_to_images(grid_images = processor.grid_images[0:1], grid_letters=['k'])\n",
    "display(word_images[0])"
   ]
  },
  {
   "cell_type": "code",
   "execution_count": null,
   "metadata": {},
   "outputs": [
    {
     "ename": "NameError",
     "evalue": "name 'grid_images' is not defined",
     "output_type": "error",
     "traceback": [
      "\u001b[1;31m---------------------------------------------------------------------------\u001b[0m",
      "\u001b[1;31mNameError\u001b[0m                                 Traceback (most recent call last)",
      "Cell \u001b[1;32mIn[7], line 1\u001b[0m\n\u001b[1;32m----> 1\u001b[0m word_images \u001b[38;5;241m=\u001b[39m add_words_to_images(grid_images \u001b[38;5;241m=\u001b[39m \u001b[43mgrid_images\u001b[49m[\u001b[38;5;241m0\u001b[39m:\u001b[38;5;241m1\u001b[39m], grid_letters\u001b[38;5;241m=\u001b[39m[\u001b[38;5;124m'\u001b[39m\u001b[38;5;124mk\u001b[39m\u001b[38;5;124m'\u001b[39m])\n\u001b[0;32m      2\u001b[0m display(word_images[\u001b[38;5;241m0\u001b[39m])\n",
      "\u001b[1;31mNameError\u001b[0m: name 'grid_images' is not defined"
     ]
    }
   ],
   "source": [
    "word_images = add_words_to_images(grid_images = grid_images[0:1], grid_letters=['k'])\n",
    "display(word_images[0])"
   ]
  },
  {
   "cell_type": "code",
   "execution_count": null,
   "metadata": {},
   "outputs": [],
   "source": [
    "from PIL import Image, ImageDraw, ImageFont\n",
    "\n",
    "def add_words_to_images(grid_images, grid_letters):\n",
    "    word_images = []\n",
    "    \n",
    "    for index_image, index_letter in zip(grid_images, grid_letters):\n",
    "        # Create a draw object\n",
    "        draw = ImageDraw.Draw(index_image)\n",
    "\n",
    "        # Define the text and font\n",
    "        text = index_letter\n",
    "        font = ImageFont.truetype(\"arial.ttf\", 100)  # Adjust font size as needed\n",
    "\n",
    "        # Calculate text size and position\n",
    "        text_width, text_height = draw.textsize(text, font=font)\n",
    "        image_width, image_height = index_image.size\n",
    "        text_x = (image_width - text_width) // 2\n",
    "        text_y = (image_height - text_height) // 2\n",
    "\n",
    "        # Add text to image\n",
    "        draw.text((text_x, text_y), text, font=font, fill=\"white\")  # Adjust fill color as needed\n",
    "\n",
    "        # Append the modified image to the word_images list\n",
    "        word_images.append(index_image)\n",
    "    \n",
    "    return word_images\n"
   ]
  }
 ],
 "metadata": {
  "kernelspec": {
   "display_name": "Python 3",
   "language": "python",
   "name": "python3"
  },
  "language_info": {
   "codemirror_mode": {
    "name": "ipython",
    "version": 3
   },
   "file_extension": ".py",
   "mimetype": "text/x-python",
   "name": "python",
   "nbconvert_exporter": "python",
   "pygments_lexer": "ipython3",
   "version": "3.10.11"
  }
 },
 "nbformat": 4,
 "nbformat_minor": 2
}
